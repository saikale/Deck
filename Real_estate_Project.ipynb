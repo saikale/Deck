{
  "nbformat": 4,
  "nbformat_minor": 0,
  "metadata": {
    "colab": {
      "provenance": []
    },
    "kernelspec": {
      "name": "python3",
      "display_name": "Python 3"
    },
    "language_info": {
      "name": "python"
    }
  },
  "cells": [
    {
      "cell_type": "markdown",
      "source": [
        "**Importing** **Necessary** **Libraries**"
      ],
      "metadata": {
        "id": "BSB8xW5k4K8y"
      }
    },
    {
      "cell_type": "code",
      "source": [
        "import pandas as pd\n",
        "import numpy as np\n",
        "from sklearn.model_selection import train_test_split\n",
        "from sklearn.linear_model import LinearRegression\n",
        "from sklearn.metrics import mean_squared_error, r2_score\n",
        "from sklearn.preprocessing import StandardScaler"
      ],
      "metadata": {
        "id": "XcOYGG1s4XAb"
      },
      "execution_count": null,
      "outputs": []
    },
    {
      "cell_type": "markdown",
      "source": [
        "**Loading** **Dataset**"
      ],
      "metadata": {
        "id": "uDAsZDnm4fio"
      }
    },
    {
      "cell_type": "code",
      "source": [
        "data = pd.read_csv('/content/Bengaluru_House_Data.csv')"
      ],
      "metadata": {
        "id": "NA0jd6EX4eyN"
      },
      "execution_count": null,
      "outputs": []
    },
    {
      "cell_type": "code",
      "source": [
        "#returns data of first n rows\n",
        "data.head()"
      ],
      "metadata": {
        "id": "oV-JftVa4wr7"
      },
      "execution_count": null,
      "outputs": []
    },
    {
      "cell_type": "code",
      "source": [
        "#returns no. of elements(no. of rows nd columns)\n",
        "data.shape"
      ],
      "metadata": {
        "id": "4Hev-Jqk408X"
      },
      "execution_count": null,
      "outputs": []
    },
    {
      "cell_type": "code",
      "source": [
        "#provides short summary of the df\n",
        "data.info()"
      ],
      "metadata": {
        "id": "i8ZHyCaM4458"
      },
      "execution_count": null,
      "outputs": []
    },
    {
      "cell_type": "markdown",
      "source": [
        "**Data** **Preprocessing** **Steps**"
      ],
      "metadata": {
        "id": "8XrOVGZD6YVZ"
      }
    },
    {
      "cell_type": "code",
      "source": [
        "# Drop columns that are irrelevant or have too many missing values\n",
        "data = data.drop(['area_type', 'availability', 'society'], axis=1)"
      ],
      "metadata": {
        "id": "5F3PBi6J5Ojl"
      },
      "execution_count": null,
      "outputs": []
    },
    {
      "cell_type": "code",
      "source": [
        "# Drop rows with missing values for critical columns\n",
        "data = data.dropna(subset=['location', 'size', 'total_sqft', 'bath', 'price'])"
      ],
      "metadata": {
        "id": "zH0Q0DRM5aeZ"
      },
      "execution_count": null,
      "outputs": []
    },
    {
      "cell_type": "code",
      "source": [
        "data.describe()"
      ],
      "metadata": {
        "id": "7VUoHkKf6CnU"
      },
      "execution_count": null,
      "outputs": []
    },
    {
      "cell_type": "code",
      "source": [
        "# Extract BHK information from 'size' column\n",
        "data['BHK'] = data['size'].apply(lambda x: int(x.split(' ')[0]))"
      ],
      "metadata": {
        "id": "IhbRzGPf6jrN"
      },
      "execution_count": null,
      "outputs": []
    },
    {
      "cell_type": "code",
      "source": [
        "# Convert 'total_sqft' to numeric by handling ranges or converting irregular data\n",
        "def convert_sqft_to_num(x):\n",
        "    try:\n",
        "        return float(x)\n",
        "    except:\n",
        "        if '-' in x:\n",
        "            tokens = x.split('-')\n",
        "            return (float(tokens[0]) + float(tokens[1])) / 2\n",
        "        else:\n",
        "            return None\n",
        "\n",
        "data['total_sqft'] = data['total_sqft'].apply(convert_sqft_to_num)"
      ],
      "metadata": {
        "id": "gyigou-H6n3H"
      },
      "execution_count": null,
      "outputs": []
    },
    {
      "cell_type": "code",
      "source": [
        "# Drop rows with NaN values in total_sqft after conversion\n",
        "data = data.dropna(subset=['total_sqft'])"
      ],
      "metadata": {
        "id": "klAtmZWO6rpP"
      },
      "execution_count": null,
      "outputs": []
    },
    {
      "cell_type": "markdown",
      "source": [
        "**One** **Hot** **Encoder**"
      ],
      "metadata": {
        "id": "p0kUMc1H6wn7"
      }
    },
    {
      "cell_type": "code",
      "source": [
        "# One-hot encoding for 'location' as it's a categorical variable\n",
        "dummies = pd.get_dummies(data['location'], drop_first=True)\n",
        "\n",
        "# Concatenate the dummy variables with the dataset\n",
        "data = pd.concat([data, dummies], axis=1)\n",
        "\n",
        "# Drop 'location' and 'size' columns as they're no longer needed\n",
        "data = data.drop(['location', 'size'], axis=1)\n"
      ],
      "metadata": {
        "id": "ZdsqW4Vz6vgn"
      },
      "execution_count": null,
      "outputs": []
    },
    {
      "cell_type": "code",
      "source": [
        "# Defining feature matrix (X) and target variable (y)\n",
        "X = data.drop('price', axis=1)\n",
        "y = data['price']\n"
      ],
      "metadata": {
        "id": "0rl6Y20x65UT"
      },
      "execution_count": null,
      "outputs": []
    },
    {
      "cell_type": "markdown",
      "source": [
        "**Visualisation**"
      ],
      "metadata": {
        "id": "ULq9u6Ho9Qc_"
      }
    },
    {
      "cell_type": "code",
      "source": [
        "import matplotlib.pyplot as plt\n",
        "import seaborn as sns\n",
        "\n",
        "# Price distribution\n",
        "plt.figure(figsize=(10, 6))\n",
        "sns.histplot(data['price'], kde=True, color='blue')\n",
        "plt.title('Distribution of House Prices')\n",
        "plt.xlabel('Price (Lakhs)')\n",
        "plt.ylabel('Frequency')\n",
        "plt.show()\n"
      ],
      "metadata": {
        "id": "i-HqCRLz-fcj"
      },
      "execution_count": null,
      "outputs": []
    },
    {
      "cell_type": "code",
      "source": [
        "# Scatter plot for total_sqft vs price\n",
        "plt.figure(figsize=(10, 6))\n",
        "sns.scatterplot(x='total_sqft', y='price', data=data, hue='BHK', palette='cool')\n",
        "plt.title('Total Square Feet vs Price')\n",
        "plt.xlabel('Total Square Feet')\n",
        "plt.ylabel('Price (Lakhs)')\n",
        "plt.show()"
      ],
      "metadata": {
        "id": "R7kvUQ9V-k37"
      },
      "execution_count": null,
      "outputs": []
    },
    {
      "cell_type": "markdown",
      "source": [
        "**Train-Test Split**"
      ],
      "metadata": {
        "id": "0O3JA97267Sl"
      }
    },
    {
      "cell_type": "code",
      "source": [
        "# Split the dataset into training and testing sets\n",
        "X_train, X_test, y_train, y_test = train_test_split(X, y, test_size=0.2, random_state=42)"
      ],
      "metadata": {
        "id": "UsvA0RB666xg"
      },
      "execution_count": null,
      "outputs": []
    },
    {
      "cell_type": "markdown",
      "source": [
        "**Feature scaling**"
      ],
      "metadata": {
        "id": "puIoF-so7Gx0"
      }
    },
    {
      "cell_type": "code",
      "source": [
        "from sklearn.impute import SimpleImputer"
      ],
      "metadata": {
        "id": "MBDQNRBN74gZ"
      },
      "execution_count": null,
      "outputs": []
    },
    {
      "cell_type": "code",
      "source": [
        "# Create an imputer to replace NaN with the mean of the column\n",
        "imputer = SimpleImputer(strategy='mean')  # You can use other strategies like 'median' or 'most_frequent'\n",
        "\n",
        "# Fit the imputer on the training data and transform both training and testing data\n",
        "X_train = imputer.fit_transform(X_train)\n",
        "X_test = imputer.transform(X_test)"
      ],
      "metadata": {
        "id": "0N1a0LDY70ae"
      },
      "execution_count": null,
      "outputs": []
    },
    {
      "cell_type": "code",
      "source": [
        "scaler = StandardScaler()\n",
        "X_train = scaler.fit_transform(X_train)\n",
        "X_test = scaler.transform(X_test)\n"
      ],
      "metadata": {
        "id": "672ONmDJ7MVv"
      },
      "execution_count": null,
      "outputs": []
    },
    {
      "cell_type": "markdown",
      "source": [
        "**Linear Regression model**"
      ],
      "metadata": {
        "id": "cvi-GsUd7XPv"
      }
    },
    {
      "cell_type": "code",
      "source": [
        "model = LinearRegression()\n",
        "model.fit(X_train, y_train)"
      ],
      "metadata": {
        "id": "BGoGWpRS7WRS"
      },
      "execution_count": null,
      "outputs": []
    },
    {
      "cell_type": "code",
      "source": [
        "# Predictions\n",
        "y_pred = model.predict(X_test)"
      ],
      "metadata": {
        "id": "0Fin8v1P8CsC"
      },
      "execution_count": null,
      "outputs": []
    },
    {
      "cell_type": "markdown",
      "source": [
        "**Model evaluation**"
      ],
      "metadata": {
        "id": "7obZTOAl8NPc"
      }
    },
    {
      "cell_type": "code",
      "source": [
        "mse = mean_squared_error(y_test, y_pred)\n",
        "r2 = r2_score(y_test, y_pred)"
      ],
      "metadata": {
        "id": "HhU4EUMR8GEo"
      },
      "execution_count": null,
      "outputs": []
    },
    {
      "cell_type": "code",
      "source": [
        "print(f\"Mean Squared Error: {mse}\")\n",
        "print(f\"R-squared: {r2}\")"
      ],
      "metadata": {
        "id": "lN4y_pki8I05"
      },
      "execution_count": null,
      "outputs": []
    }
  ]
}