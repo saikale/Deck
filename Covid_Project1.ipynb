{
  "nbformat": 4,
  "nbformat_minor": 0,
  "metadata": {
    "colab": {
      "name": "Untitled2.ipynb",
      "provenance": [],
      "include_colab_link": true
    },
    "kernelspec": {
      "name": "python3",
      "display_name": "Python 3"
    },
    "language_info": {
      "name": "python"
    }
  },
  "cells": [
    {
      "cell_type": "markdown",
      "metadata": {
        "id": "view-in-github",
        "colab_type": "text"
      },
      "source": [
        "<a href=\"https://colab.research.google.com/github/saikale/Deck/blob/main/Covid_Project1.ipynb\" target=\"_parent\"><img src=\"https://colab.research.google.com/assets/colab-badge.svg\" alt=\"Open In Colab\"/></a>"
      ]
    },
    {
      "cell_type": "code",
      "metadata": {
        "id": "S--JMLsFN8eO"
      },
      "source": [
        "from bs4 import BeautifulSoup\n",
        "import html5lib\n",
        "import requests\n",
        "\n"
      ],
      "execution_count": 29,
      "outputs": []
    },
    {
      "cell_type": "code",
      "metadata": {
        "id": "cGo_QSHo3qUh"
      },
      "source": [
        "def population():\n",
        "    r = requests.get(\"https://www.worldometers.info/world-population/india-population/\")\n",
        "    soup = BeautifulSoup(r.content, 'html.parser')\n",
        "    target = soup.find(\n",
        "        \"div\", class_=\"col-md-8 country-pop-description\").find_all_next(\"strong\")\n",
        "    return (target.text)"
      ],
      "execution_count": 6,
      "outputs": []
    },
    {
      "cell_type": "code",
      "metadata": {
        "colab": {
          "base_uri": "https://localhost:8080/"
        },
        "id": "MHlkDEsH3tyO",
        "outputId": "66a50998-77fa-4ca4-aef7-526ad6fe6865"
      },
      "source": [
        "total_pop= population()\n",
        "total_pop=total_pop.replace(\",\",\"\")\n",
        "print(total_pop)\n"
      ],
      "execution_count": 7,
      "outputs": [
        {
          "output_type": "stream",
          "name": "stdout",
          "text": [
            "1397013045\n"
          ]
        }
      ]
    },
    {
      "cell_type": "code",
      "metadata": {
        "id": "WLXxwLkL3wsU"
      },
      "source": [
        "def vaccination_done():\n",
        "    r = requests.get('https://www.mygov.in/covid-19')\n",
        "    soup = BeautifulSoup(r.content,'html.parser')\n",
        "    target = soup.find(\n",
        "        \"div\", class_=\"total-vcount\").find_all_next(\"strong\")\n",
        "    return (target.text)"
      ],
      "execution_count": 8,
      "outputs": []
    },
    {
      "cell_type": "code",
      "metadata": {
        "id": "H6UA4wmx3zrm"
      },
      "source": [
        "total_vaccinated = vaccination_done()\n",
        "total_vaccinated=total_vaccinated.replace(\",\",\"\")\n",
        "#print(total_vaccinated)\n"
      ],
      "execution_count": 9,
      "outputs": []
    },
    {
      "cell_type": "code",
      "metadata": {
        "id": "G1tr0l6S487u"
      },
      "source": [
        "def vaccination_done():\n",
        "    r = requests.get('https://www.mygov.in/covid-19')\n",
        "    soup = BeautifulSoup(r.content,'html.parser')\n",
        "    target = soup.find(\n",
        "        \"div\", class_=\"total-vcount\").find_all_next(\"strong\")[0]\n",
        "    return (target.text)\n",
        "\n",
        "\n",
        "total_vaccinated = vaccination_done()\n",
        "total_vaccinated=total_vaccinated.replace(\",\",\"\")\n",
        "#print(total_vaccinated)\n",
        "\n"
      ],
      "execution_count": 20,
      "outputs": []
    },
    {
      "cell_type": "code",
      "metadata": {
        "id": "bZeVURIP5h8l"
      },
      "source": [
        "def avg_vaccination_daily():\n",
        "    r = requests.get('https://www.mygov.in/covid-19')\n",
        "    soup = BeautifulSoup(r.content, 'html.parser')\n",
        "    target = soup.find(\"div\", class_=\"yday-vcount\").find_all_next(\"strong\")\n",
        "    return (target.text)"
      ],
      "execution_count": 27,
      "outputs": []
    },
    {
      "cell_type": "code",
      "metadata": {
        "id": "cD1O-hT55l86"
      },
      "source": [
        "daily_vaccination = avg_vaccination_daily()\n",
        "daily_vaccination=daily_vaccination.replace(\",\",\"\")\n",
        "#print(daily_vaccination)\n"
      ],
      "execution_count": null,
      "outputs": []
    },
    {
      "cell_type": "code",
      "metadata": {
        "id": "v3tGzYas-fPm"
      },
      "source": [
        "vaccination_left = float(total_pop) - float(total_vaccinated)\n",
        "days_left = vaccination_left / float(daily_vaccination)"
      ],
      "execution_count": null,
      "outputs": []
    },
    {
      "cell_type": "code",
      "metadata": {
        "id": "-s3ASFmy5Fre"
      },
      "source": [
        "print('Total days left to complete vaccination process in India is :' + str(round(days_left)))"
      ],
      "execution_count": null,
      "outputs": []
    }
  ]
}